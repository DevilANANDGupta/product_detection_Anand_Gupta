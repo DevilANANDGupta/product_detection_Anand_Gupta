{
  "cells": [
    {
      "cell_type": "code",
      "execution_count": null,
      "metadata": {
        "id": "NODfSF7_tSup"
      },
      "outputs": [],
      "source": [
        "# Install TFOD API \n",
        "import tensorflow as tf \n",
        "print(tf.__version__)\n",
        "\n",
        "!git clone https://github.com/tensorflow/models.git\n",
        "\n",
        "% cd models/research\n",
        "!protoc object_detection/protos/*.proto --python_out=.\n",
        "# Install TensorFlow Object Detection API.\n",
        "\n"
      ]
    },
    {
      "cell_type": "code",
      "execution_count": null,
      "metadata": {
        "id": "NmKymBcZtZCJ"
      },
      "outputs": [],
      "source": [
        "from google.colab import drive\n",
        "drive.mount('/content/drive')"
      ]
    },
    {
      "cell_type": "code",
      "execution_count": 4,
      "metadata": {
        "id": "vqpDHUi8tc8N"
      },
      "outputs": [],
      "source": [
        "!cp -r /content/drive/MyDrive/product-detection/test.record .\n",
        "!cp -r /content/drive/MyDrive/product-detection/label_map.pbtxt .\n",
        "!cp -r /content/drive/MyDrive/product-detection/fp32/frozen_inference_graph.pb ."
      ]
    },
    {
      "cell_type": "markdown",
      "metadata": {
        "id": "oUxSjOu3wx8S"
      },
      "source": [
        "## Gather detections"
      ]
    },
    {
      "cell_type": "code",
      "execution_count": null,
      "metadata": {
        "colab": {
          "base_uri": "https://localhost:8080/"
        },
        "id": "4ryXl_Z1uDmf",
        "outputId": "32164e5a-96ba-4b32-f4c4-2429c44ade66"
      },
      "outputs": [],
      "source": [
        "# Infer detections on a TFRecord of TFExamples given an inference graph.\n",
        "!python object_detection/inference/infer_detections.py \\\n",
        "    --input_tfrecord_paths=test.record \\\n",
        "    --output_tfrecord_path=detections.tfrecord \\\n",
        "    --inference_graph=frozen_inference_graph.pb"
      ]
    },
    {
      "cell_type": "markdown",
      "metadata": {
        "id": "y21jZm5xw0DR"
      },
      "source": [
        "## Generate metrics"
      ]
    },
    {
      "cell_type": "code",
      "execution_count": 6,
      "metadata": {
        "colab": {
          "base_uri": "https://localhost:8080/"
        },
        "id": "16wWX30MujMg",
        "outputId": "97fa96a8-0c03-4602-a105-0742c3582593"
      },
      "outputs": [
        {
          "name": "stdout",
          "output_type": "stream",
          "text": [
            "Cloning into 'tf_object_detection_cm'...\n",
            "remote: Enumerating objects: 4, done.\u001b[K\n",
            "remote: Counting objects: 100% (4/4), done.\u001b[K\n",
            "remote: Compressing objects: 100% (4/4), done.\u001b[K\n",
            "remote: Total 35 (delta 0), reused 3 (delta 0), pack-reused 31\u001b[K\n",
            "Unpacking objects: 100% (35/35), done.\n"
          ]
        }
      ],
      "source": [
        "!git clone https://github.com/svpino/tf_object_detection_cm"
      ]
    },
    {
      "cell_type": "code",
      "execution_count": 7,
      "metadata": {
        "colab": {
          "base_uri": "https://localhost:8080/"
        },
        "id": "IQS10XALux3H",
        "outputId": "5eba49cf-2a1a-49f2-92db-7fd84fc4fde4"
      },
      "outputs": [
        {
          "name": "stdout",
          "output_type": "stream",
          "text": [
            "WARNING:tensorflow:From tf_object_detection_cm/confusion_matrix.py:142: The name tf.app.run is deprecated. Please use tf.compat.v1.app.run instead.\n",
            "\n",
            "WARNING:tensorflow:From tf_object_detection_cm/confusion_matrix.py:38: tf_record_iterator (from tensorflow.python.lib.io.tf_record) is deprecated and will be removed in a future version.\n",
            "Instructions for updating:\n",
            "Use eager execution and: \n",
            "`tf.data.TFRecordDataset(path)`\n",
            "W0117 05:06:05.042840 139941604333440 deprecation.py:323] From tf_object_detection_cm/confusion_matrix.py:38: tf_record_iterator (from tensorflow.python.lib.io.tf_record) is deprecated and will be removed in a future version.\n",
            "Instructions for updating:\n",
            "Use eager execution and: \n",
            "`tf.data.TFRecordDataset(path)`\n",
            "Processed 71 images\n",
            "\n",
            "Confusion Matrix:\n",
            "[[1.964e+03 0.000e+00 8.000e+00 0.000e+00 2.000e+00 1.000e+00 1.300e+01\n",
            "  7.000e+00 3.000e+00 0.000e+00 1.000e+00 2.400e+01]\n",
            " [0.000e+00 4.700e+01 0.000e+00 0.000e+00 0.000e+00 0.000e+00 0.000e+00\n",
            "  0.000e+00 0.000e+00 0.000e+00 0.000e+00 0.000e+00]\n",
            " [2.900e+01 0.000e+00 2.200e+02 0.000e+00 0.000e+00 0.000e+00 0.000e+00\n",
            "  0.000e+00 0.000e+00 0.000e+00 0.000e+00 3.000e+00]\n",
            " [6.000e+00 0.000e+00 0.000e+00 1.000e+01 0.000e+00 0.000e+00 0.000e+00\n",
            "  3.000e+00 0.000e+00 0.000e+00 0.000e+00 2.000e+00]\n",
            " [6.000e+00 0.000e+00 0.000e+00 0.000e+00 8.900e+01 0.000e+00 0.000e+00\n",
            "  0.000e+00 0.000e+00 0.000e+00 0.000e+00 0.000e+00]\n",
            " [1.000e+00 0.000e+00 0.000e+00 0.000e+00 0.000e+00 2.200e+01 0.000e+00\n",
            "  0.000e+00 0.000e+00 0.000e+00 0.000e+00 1.000e+00]\n",
            " [9.000e+00 0.000e+00 0.000e+00 0.000e+00 0.000e+00 0.000e+00 4.100e+01\n",
            "  0.000e+00 0.000e+00 0.000e+00 0.000e+00 2.000e+00]\n",
            " [4.000e+00 0.000e+00 0.000e+00 0.000e+00 0.000e+00 0.000e+00 0.000e+00\n",
            "  7.500e+01 0.000e+00 0.000e+00 0.000e+00 2.000e+00]\n",
            " [4.000e+00 0.000e+00 0.000e+00 0.000e+00 0.000e+00 0.000e+00 0.000e+00\n",
            "  0.000e+00 2.800e+01 0.000e+00 0.000e+00 0.000e+00]\n",
            " [1.000e+01 0.000e+00 0.000e+00 0.000e+00 0.000e+00 0.000e+00 0.000e+00\n",
            "  0.000e+00 0.000e+00 2.000e+00 0.000e+00 0.000e+00]\n",
            " [5.000e+00 0.000e+00 0.000e+00 0.000e+00 0.000e+00 0.000e+00 0.000e+00\n",
            "  0.000e+00 0.000e+00 0.000e+00 4.000e+00 0.000e+00]\n",
            " [6.100e+01 0.000e+00 1.100e+01 6.000e+00 7.000e+00 2.000e+00 7.000e+00\n",
            "  2.000e+01 1.000e+00 6.000e+00 1.000e+00 0.000e+00]] \n",
            "\n",
            "   category  ...  recall_@0.5IOU\n",
            "0         1  ...        0.970835\n",
            "1         2  ...        1.000000\n",
            "2         5  ...        0.936842\n",
            "3         8  ...        0.925926\n",
            "4         4  ...        0.476190\n",
            "5         7  ...        0.788462\n",
            "6        11  ...        0.444444\n",
            "7         3  ...        0.873016\n",
            "8         6  ...        0.916667\n",
            "9         9  ...        0.875000\n",
            "10       10  ...        0.166667\n",
            "\n",
            "[11 rows x 3 columns]\n"
          ]
        }
      ],
      "source": [
        "!python tf_object_detection_cm/confusion_matrix.py \\\n",
        "    --detections_record=detections.tfrecord \\\n",
        "    --label_map=label_map.pbtxt \\\n",
        "    --output_path=confusion_matrix.csv"
      ]
    }
  ],
  "metadata": {
    "accelerator": "GPU",
    "colab": {
      "authorship_tag": "ABX9TyOWeIody1bRL4UEXDyeFd/V",
      "collapsed_sections": [],
      "include_colab_link": true,
      "name": "GroceryDataset_Evaluation.ipynb",
      "provenance": []
    },
    "kernelspec": {
      "display_name": "Python 3",
      "name": "python3"
    }
  },
  "nbformat": 4,
  "nbformat_minor": 0
}
